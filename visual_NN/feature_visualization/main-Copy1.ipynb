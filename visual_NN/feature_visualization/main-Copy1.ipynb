{
 "cells": [
  {
   "cell_type": "code",
   "execution_count": 2,
   "metadata": {},
   "outputs": [],
   "source": [
    "import tensorflow as tf\n",
    "import numpy as np\n",
    "import pickle\n",
    "from tensorflow.python.platform import gfile\n",
    "from random import randint\n",
    "import os\n",
    "from scipy.misc import imsave\n",
    "from matplotlib import pyplot as plt"
   ]
  },
  {
   "cell_type": "code",
   "execution_count": 3,
   "metadata": {},
   "outputs": [],
   "source": [
    "def unpickle(file):\n",
    "  fo = open(file, 'rb')\n",
    "  dict = pickle.load(fo, encoding='latin1')\n",
    "  fo.close()\n",
    "  return dict\n",
    "\n",
    "def initWeight(shape):\n",
    "    weights = tf.truncated_normal(shape,stddev=0.1)\n",
    "    return tf.Variable(weights)\n",
    "\n",
    "# start with 0.1 so reLu isnt always 0\n",
    "def initBias(shape):\n",
    "    bias = tf.constant(0.1,shape=shape)\n",
    "    return tf.Variable(bias)\n",
    "\n",
    "# the convolution with padding of 1 on each side, and moves by 1.\n",
    "def conv2d(x,W):\n",
    "    return tf.nn.conv2d(x,W,strides=[1,1,1,1],padding=\"SAME\")\n",
    "\n",
    "# max pooling basically shrinks it by 2x, taking the highest value on each feature.\n",
    "def maxPool2d(x):\n",
    "    return tf.nn.max_pool(x,ksize=[1,2,2,1],strides=[1,2,2,1],padding=\"SAME\")\n",
    "\n",
    "def conv_seq(input_thing, layer_in, layer_out, filter_size):\n",
    "    wConv = initWeight([filter_size, filter_size,layer_in, layer_out])\n",
    "    bConv = initBias([layer_out])\n",
    "    conv = conv2d(input_thing, wConv)\n",
    "    bias = conv + bConv\n",
    "    relu = tf.nn.relu(bias)\n",
    "    pool = maxPool2d(relu)\n",
    "\n",
    "    return wConv, bConv, relu, pool"
   ]
  },
  {
   "cell_type": "code",
   "execution_count": 4,
   "metadata": {},
   "outputs": [],
   "source": [
    "batchsize = 50;\n",
    "imagesize = 32;\n",
    "colors = 3;\n",
    "keepProb = tf.placeholder(\"float\");"
   ]
  },
  {
   "cell_type": "code",
   "execution_count": 5,
   "metadata": {},
   "outputs": [],
   "source": [
    "sess = tf.InteractiveSession()\n",
    "\n",
    "img = tf.placeholder(\"float\",shape=[None,imagesize,imagesize,colors])\n",
    "lbl = tf.placeholder(\"float\",shape=[None,10])"
   ]
  },
  {
   "cell_type": "code",
   "execution_count": 7,
   "metadata": {},
   "outputs": [],
   "source": [
    "wConv1, bConv1, relu1, pool1 = conv_seq(img, colors, 96, 5) # 96 x 28 x 28 -> 96 x 14 x 14\n",
    "wConv2, bConv2, relu2, pool2 = conv_seq(pool1, 96, 256, 5)  # 256 x \n",
    "wConv3, bConv3, relu3, pool3 = conv_seq(pool2, 256, 384,5)\n",
    "wConv4, bConv4, relu4, pool4 = conv_seq(pool3, 384, 256,5)"
   ]
  },
  {
   "cell_type": "code",
   "execution_count": 8,
   "metadata": {},
   "outputs": [
    {
     "data": {
      "text/plain": [
       "\"\\npaddings = tf.constant([[1, 1,], [1, 1]])\\nwith tf.name_scope('layer1'):\\n    W1 = initWeight([5,5,3,96])    \\n    b1 = initBias([96])\\n    conv1 = conv2d(img, W1)        # 96 x 32 x 32\\n    conv1_bias = conv1 + b1     \\n    relu1 = tf.nn.relu(conv1_bias)\\n    pool1 = maxPool2d(relu1)       # 96 x 16 x 16\\n\\nwith tf.name_scope('layer2'):\\n    W2 = initWeight([3,3,96,256])  \\n    b2 = initBias([256])\\n    conv2 = conv2d(pool1, W2)\\n    conv2_bias = conv2 + b2        # 256 x 16 x 16 \\n    relu2 = tf.nn.relu(conv2_bias)\\n    pool2 = maxPool2d(relu2)       # 256 x 8 x 8\\n\\nwith tf.name_scope('layer3'):\\n    W3 = initWeight([3,3,256,384])  \\n    b3 = initBias([384])\\n    conv3 = conv2d(pool2, W3)   # 384 x 8 x 8\\n    conv3_bias = conv3 + b3\\n    relu3 = tf.nn.relu(conv3_bias)\\n    \\nwith tf.name_scope('layer4'):\\n    W4 = initWeight([3,3,384,256])  \\n    b4 = initBias([256])\\n    conv4 = conv2d(relu3, W4)    # 256 x 8 x 8\\n    conv4_bias = conv4 + b4\\n    relu4 = tf.nn.relu(conv4_bias)\\n\\nwith tf.name_scope('layer5'):\\n    pool5 = maxPool2d(relu4)         # 256 x 3 x 3\\n\""
      ]
     },
     "execution_count": 8,
     "metadata": {},
     "output_type": "execute_result"
    }
   ],
   "source": [
    "'''\n",
    "paddings = tf.constant([[1, 1,], [1, 1]])\n",
    "with tf.name_scope('layer1'):\n",
    "    W1 = initWeight([5,5,3,96])    \n",
    "    b1 = initBias([96])\n",
    "    conv1 = conv2d(img, W1)        # 96 x 32 x 32\n",
    "    conv1_bias = conv1 + b1     \n",
    "    relu1 = tf.nn.relu(conv1_bias)\n",
    "    pool1 = maxPool2d(relu1)       # 96 x 16 x 16\n",
    "\n",
    "with tf.name_scope('layer2'):\n",
    "    W2 = initWeight([3,3,96,256])  \n",
    "    b2 = initBias([256])\n",
    "    conv2 = conv2d(pool1, W2)\n",
    "    conv2_bias = conv2 + b2        # 256 x 16 x 16 \n",
    "    relu2 = tf.nn.relu(conv2_bias)\n",
    "    pool2 = maxPool2d(relu2)       # 256 x 8 x 8\n",
    "\n",
    "with tf.name_scope('layer3'):\n",
    "    W3 = initWeight([3,3,256,384])  \n",
    "    b3 = initBias([384])\n",
    "    conv3 = conv2d(pool2, W3)   # 384 x 8 x 8\n",
    "    conv3_bias = conv3 + b3\n",
    "    relu3 = tf.nn.relu(conv3_bias)\n",
    "    \n",
    "with tf.name_scope('layer4'):\n",
    "    W4 = initWeight([3,3,384,256])  \n",
    "    b4 = initBias([256])\n",
    "    conv4 = conv2d(relu3, W4)    # 256 x 8 x 8\n",
    "    conv4_bias = conv4 + b4\n",
    "    relu4 = tf.nn.relu(conv4_bias)\n",
    "\n",
    "with tf.name_scope('layer5'):\n",
    "    pool5 = maxPool2d(relu4)         # 256 x 3 x 3\n",
    "'''"
   ]
  },
  {
   "cell_type": "code",
   "execution_count": 9,
   "metadata": {},
   "outputs": [],
   "source": [
    "# fully-connected is just a regular neural net: 8*8*64 for each training data\n",
    "wFc1 = initWeight([int(imagesize/4) * int(imagesize/4) * 64, 1024])\n",
    "bFc1 = initBias([1024])\n",
    "# reduce dimensions to flatten\n",
    "pool2flat = tf.reshape(pool2, [-1, int(imagesize/4) * int(imagesize/4) *64])\n",
    "# 128 training set by 2304 data points\n",
    "fc1 = tf.matmul(pool2flat,wFc1) + bFc1;\n",
    "relu6 = tf.nn.relu(fc1);\n",
    "# dropout removes duplicate weights\n",
    "drop = tf.nn.dropout(relu6,keepProb);\n",
    "wFc2 = initWeight([1024,10]);\n",
    "bFc2 = initWeight([10]);"
   ]
  },
  {
   "cell_type": "code",
   "execution_count": 10,
   "metadata": {},
   "outputs": [],
   "source": [
    "# softmax converts individual probabilities to percentages\n",
    "guesses = tf.nn.softmax(tf.matmul(drop, wFc2) + bFc2);\n",
    "# how wrong it is\n",
    "cross_entropy = -tf.reduce_sum(lbl*tf.log(guesses + 1e-9));\n",
    "# theres a lot of tensorflow optimizers such as gradient descent\n",
    "# adam is one of them\n",
    "optimizer = tf.train.AdamOptimizer(1e-4).minimize(cross_entropy);\n",
    "# array of bools, checking if each guess was correct\n",
    "correct_prediction = tf.equal(tf.argmax(guesses,1), tf.argmax(lbl,1));\n",
    "# represent the correctness as a float [1,1,0,1] -> 0.75\n",
    "accuracy = tf.reduce_mean(tf.cast(correct_prediction, \"float\"));"
   ]
  },
  {
   "cell_type": "code",
   "execution_count": 11,
   "metadata": {},
   "outputs": [],
   "source": [
    "sess.run(tf.global_variables_initializer());\n",
    "\n",
    "batch = unpickle(\"cifar-10-batches-py/data_batch_1\")"
   ]
  },
  {
   "cell_type": "code",
   "execution_count": 12,
   "metadata": {},
   "outputs": [
    {
     "name": "stdout",
     "output_type": "stream",
     "text": [
      "(10000, 3072)\n"
     ]
    }
   ],
   "source": [
    "print(batch[\"data\"].shape)"
   ]
  },
  {
   "cell_type": "code",
   "execution_count": 13,
   "metadata": {},
   "outputs": [],
   "source": [
    "validationData = batch[\"data\"][555:batchsize+555]\n",
    "validationRawLabel = batch[\"labels\"][555:batchsize+555]\n",
    "validationLabel = np.zeros((batchsize,10))\n",
    "validationLabel[np.arange(batchsize),validationRawLabel] = 1\n",
    "validationData = validationData/255.0\n",
    "validationData = np.reshape(validationData,[-1,3,32,32])\n",
    "validationData = np.swapaxes(validationData,1,3)"
   ]
  },
  {
   "cell_type": "code",
   "execution_count": 14,
   "metadata": {},
   "outputs": [],
   "source": [
    "saver = tf.train.Saver()"
   ]
  },
  {
   "cell_type": "code",
   "execution_count": 15,
   "metadata": {
    "scrolled": true
   },
   "outputs": [
    {
     "ename": "InvalidArgumentError",
     "evalue": "Incompatible shapes: [200] vs. [50]\n\t [[Node: Equal = Equal[T=DT_INT64, _device=\"/job:localhost/replica:0/task:0/device:GPU:0\"](ArgMax, ArgMax_1)]]\n\t [[Node: Mean/_7 = _Recv[client_terminated=false, recv_device=\"/job:localhost/replica:0/task:0/device:CPU:0\", send_device=\"/job:localhost/replica:0/task:0/device:GPU:0\", send_device_incarnation=1, tensor_name=\"edge_77_Mean\", tensor_type=DT_FLOAT, _device=\"/job:localhost/replica:0/task:0/device:CPU:0\"]()]]\n\nCaused by op 'Equal', defined at:\n  File \"/home/joseph/anaconda3/envs/jojo/lib/python3.6/runpy.py\", line 193, in _run_module_as_main\n    \"__main__\", mod_spec)\n  File \"/home/joseph/anaconda3/envs/jojo/lib/python3.6/runpy.py\", line 85, in _run_code\n    exec(code, run_globals)\n  File \"/home/joseph/anaconda3/envs/jojo/lib/python3.6/site-packages/ipykernel_launcher.py\", line 16, in <module>\n    app.launch_new_instance()\n  File \"/home/joseph/anaconda3/envs/jojo/lib/python3.6/site-packages/traitlets/config/application.py\", line 658, in launch_instance\n    app.start()\n  File \"/home/joseph/anaconda3/envs/jojo/lib/python3.6/site-packages/ipykernel/kernelapp.py\", line 486, in start\n    self.io_loop.start()\n  File \"/home/joseph/anaconda3/envs/jojo/lib/python3.6/site-packages/tornado/platform/asyncio.py\", line 127, in start\n    self.asyncio_loop.run_forever()\n  File \"/home/joseph/anaconda3/envs/jojo/lib/python3.6/asyncio/base_events.py\", line 422, in run_forever\n    self._run_once()\n  File \"/home/joseph/anaconda3/envs/jojo/lib/python3.6/asyncio/base_events.py\", line 1432, in _run_once\n    handle._run()\n  File \"/home/joseph/anaconda3/envs/jojo/lib/python3.6/asyncio/events.py\", line 145, in _run\n    self._callback(*self._args)\n  File \"/home/joseph/anaconda3/envs/jojo/lib/python3.6/site-packages/tornado/platform/asyncio.py\", line 117, in _handle_events\n    handler_func(fileobj, events)\n  File \"/home/joseph/anaconda3/envs/jojo/lib/python3.6/site-packages/tornado/stack_context.py\", line 276, in null_wrapper\n    return fn(*args, **kwargs)\n  File \"/home/joseph/anaconda3/envs/jojo/lib/python3.6/site-packages/zmq/eventloop/zmqstream.py\", line 450, in _handle_events\n    self._handle_recv()\n  File \"/home/joseph/anaconda3/envs/jojo/lib/python3.6/site-packages/zmq/eventloop/zmqstream.py\", line 480, in _handle_recv\n    self._run_callback(callback, msg)\n  File \"/home/joseph/anaconda3/envs/jojo/lib/python3.6/site-packages/zmq/eventloop/zmqstream.py\", line 432, in _run_callback\n    callback(*args, **kwargs)\n  File \"/home/joseph/anaconda3/envs/jojo/lib/python3.6/site-packages/tornado/stack_context.py\", line 276, in null_wrapper\n    return fn(*args, **kwargs)\n  File \"/home/joseph/anaconda3/envs/jojo/lib/python3.6/site-packages/ipykernel/kernelbase.py\", line 283, in dispatcher\n    return self.dispatch_shell(stream, msg)\n  File \"/home/joseph/anaconda3/envs/jojo/lib/python3.6/site-packages/ipykernel/kernelbase.py\", line 233, in dispatch_shell\n    handler(stream, idents, msg)\n  File \"/home/joseph/anaconda3/envs/jojo/lib/python3.6/site-packages/ipykernel/kernelbase.py\", line 399, in execute_request\n    user_expressions, allow_stdin)\n  File \"/home/joseph/anaconda3/envs/jojo/lib/python3.6/site-packages/ipykernel/ipkernel.py\", line 208, in do_execute\n    res = shell.run_cell(code, store_history=store_history, silent=silent)\n  File \"/home/joseph/anaconda3/envs/jojo/lib/python3.6/site-packages/ipykernel/zmqshell.py\", line 537, in run_cell\n    return super(ZMQInteractiveShell, self).run_cell(*args, **kwargs)\n  File \"/home/joseph/anaconda3/envs/jojo/lib/python3.6/site-packages/IPython/core/interactiveshell.py\", line 2662, in run_cell\n    raw_cell, store_history, silent, shell_futures)\n  File \"/home/joseph/anaconda3/envs/jojo/lib/python3.6/site-packages/IPython/core/interactiveshell.py\", line 2785, in _run_cell\n    interactivity=interactivity, compiler=compiler, result=result)\n  File \"/home/joseph/anaconda3/envs/jojo/lib/python3.6/site-packages/IPython/core/interactiveshell.py\", line 2903, in run_ast_nodes\n    if self.run_code(code, result):\n  File \"/home/joseph/anaconda3/envs/jojo/lib/python3.6/site-packages/IPython/core/interactiveshell.py\", line 2963, in run_code\n    exec(code_obj, self.user_global_ns, self.user_ns)\n  File \"<ipython-input-10-6ee8c8fb8ba9>\", line 9, in <module>\n    correct_prediction = tf.equal(tf.argmax(guesses,1), tf.argmax(lbl,1));\n  File \"/home/joseph/anaconda3/envs/jojo/lib/python3.6/site-packages/tensorflow/python/ops/gen_math_ops.py\", line 2529, in equal\n    \"Equal\", x=x, y=y, name=name)\n  File \"/home/joseph/anaconda3/envs/jojo/lib/python3.6/site-packages/tensorflow/python/framework/op_def_library.py\", line 787, in _apply_op_helper\n    op_def=op_def)\n  File \"/home/joseph/anaconda3/envs/jojo/lib/python3.6/site-packages/tensorflow/python/framework/ops.py\", line 3392, in create_op\n    op_def=op_def)\n  File \"/home/joseph/anaconda3/envs/jojo/lib/python3.6/site-packages/tensorflow/python/framework/ops.py\", line 1718, in __init__\n    self._traceback = self._graph._extract_stack()  # pylint: disable=protected-access\n\nInvalidArgumentError (see above for traceback): Incompatible shapes: [200] vs. [50]\n\t [[Node: Equal = Equal[T=DT_INT64, _device=\"/job:localhost/replica:0/task:0/device:GPU:0\"](ArgMax, ArgMax_1)]]\n\t [[Node: Mean/_7 = _Recv[client_terminated=false, recv_device=\"/job:localhost/replica:0/task:0/device:CPU:0\", send_device=\"/job:localhost/replica:0/task:0/device:GPU:0\", send_device_incarnation=1, tensor_name=\"edge_77_Mean\", tensor_type=DT_FLOAT, _device=\"/job:localhost/replica:0/task:0/device:CPU:0\"]()]]\n",
     "output_type": "error",
     "traceback": [
      "\u001b[0;31m---------------------------------------------------------------------------\u001b[0m",
      "\u001b[0;31mInvalidArgumentError\u001b[0m                      Traceback (most recent call last)",
      "\u001b[0;32m~/anaconda3/envs/jojo/lib/python3.6/site-packages/tensorflow/python/client/session.py\u001b[0m in \u001b[0;36m_do_call\u001b[0;34m(self, fn, *args)\u001b[0m\n\u001b[1;32m   1321\u001b[0m     \u001b[0;32mtry\u001b[0m\u001b[0;34m:\u001b[0m\u001b[0;34m\u001b[0m\u001b[0m\n\u001b[0;32m-> 1322\u001b[0;31m       \u001b[0;32mreturn\u001b[0m \u001b[0mfn\u001b[0m\u001b[0;34m(\u001b[0m\u001b[0;34m*\u001b[0m\u001b[0margs\u001b[0m\u001b[0;34m)\u001b[0m\u001b[0;34m\u001b[0m\u001b[0m\n\u001b[0m\u001b[1;32m   1323\u001b[0m     \u001b[0;32mexcept\u001b[0m \u001b[0merrors\u001b[0m\u001b[0;34m.\u001b[0m\u001b[0mOpError\u001b[0m \u001b[0;32mas\u001b[0m \u001b[0me\u001b[0m\u001b[0;34m:\u001b[0m\u001b[0;34m\u001b[0m\u001b[0m\n",
      "\u001b[0;32m~/anaconda3/envs/jojo/lib/python3.6/site-packages/tensorflow/python/client/session.py\u001b[0m in \u001b[0;36m_run_fn\u001b[0;34m(feed_dict, fetch_list, target_list, options, run_metadata)\u001b[0m\n\u001b[1;32m   1306\u001b[0m       return self._call_tf_sessionrun(\n\u001b[0;32m-> 1307\u001b[0;31m           options, feed_dict, fetch_list, target_list, run_metadata)\n\u001b[0m\u001b[1;32m   1308\u001b[0m \u001b[0;34m\u001b[0m\u001b[0m\n",
      "\u001b[0;32m~/anaconda3/envs/jojo/lib/python3.6/site-packages/tensorflow/python/client/session.py\u001b[0m in \u001b[0;36m_call_tf_sessionrun\u001b[0;34m(self, options, feed_dict, fetch_list, target_list, run_metadata)\u001b[0m\n\u001b[1;32m   1408\u001b[0m           \u001b[0mself\u001b[0m\u001b[0;34m.\u001b[0m\u001b[0m_session\u001b[0m\u001b[0;34m,\u001b[0m \u001b[0moptions\u001b[0m\u001b[0;34m,\u001b[0m \u001b[0mfeed_dict\u001b[0m\u001b[0;34m,\u001b[0m \u001b[0mfetch_list\u001b[0m\u001b[0;34m,\u001b[0m \u001b[0mtarget_list\u001b[0m\u001b[0;34m,\u001b[0m\u001b[0;34m\u001b[0m\u001b[0m\n\u001b[0;32m-> 1409\u001b[0;31m           run_metadata)\n\u001b[0m\u001b[1;32m   1410\u001b[0m     \u001b[0;32melse\u001b[0m\u001b[0;34m:\u001b[0m\u001b[0;34m\u001b[0m\u001b[0m\n",
      "\u001b[0;31mInvalidArgumentError\u001b[0m: Incompatible shapes: [200] vs. [50]\n\t [[Node: Equal = Equal[T=DT_INT64, _device=\"/job:localhost/replica:0/task:0/device:GPU:0\"](ArgMax, ArgMax_1)]]\n\t [[Node: Mean/_7 = _Recv[client_terminated=false, recv_device=\"/job:localhost/replica:0/task:0/device:CPU:0\", send_device=\"/job:localhost/replica:0/task:0/device:GPU:0\", send_device_incarnation=1, tensor_name=\"edge_77_Mean\", tensor_type=DT_FLOAT, _device=\"/job:localhost/replica:0/task:0/device:CPU:0\"]()]]",
      "\nDuring handling of the above exception, another exception occurred:\n",
      "\u001b[0;31mInvalidArgumentError\u001b[0m                      Traceback (most recent call last)",
      "\u001b[0;32m<ipython-input-15-88ac83e7fc9b>\u001b[0m in \u001b[0;36m<module>\u001b[0;34m()\u001b[0m\n\u001b[1;32m     11\u001b[0m     \u001b[0;32mif\u001b[0m \u001b[0mi\u001b[0m\u001b[0;34m%\u001b[0m\u001b[0;36m500\u001b[0m \u001b[0;34m==\u001b[0m \u001b[0;36m0\u001b[0m\u001b[0;34m:\u001b[0m\u001b[0;34m\u001b[0m\u001b[0m\n\u001b[1;32m     12\u001b[0m         train_accuracy = accuracy.eval(feed_dict={\n\u001b[0;32m---> 13\u001b[0;31m         img: validationData, lbl: validationLabel, keepProb: 1.0})\n\u001b[0m\u001b[1;32m     14\u001b[0m         \u001b[0mprint\u001b[0m\u001b[0;34m(\u001b[0m\u001b[0;34m\"step %d, training accuracy %g\"\u001b[0m\u001b[0;34m%\u001b[0m\u001b[0;34m(\u001b[0m\u001b[0mi\u001b[0m\u001b[0;34m,\u001b[0m \u001b[0mtrain_accuracy\u001b[0m\u001b[0;34m)\u001b[0m\u001b[0;34m)\u001b[0m\u001b[0;34m\u001b[0m\u001b[0m\n\u001b[1;32m     15\u001b[0m \u001b[0;34m\u001b[0m\u001b[0m\n",
      "\u001b[0;32m~/anaconda3/envs/jojo/lib/python3.6/site-packages/tensorflow/python/framework/ops.py\u001b[0m in \u001b[0;36meval\u001b[0;34m(self, feed_dict, session)\u001b[0m\n\u001b[1;32m    708\u001b[0m \u001b[0;34m\u001b[0m\u001b[0m\n\u001b[1;32m    709\u001b[0m     \"\"\"\n\u001b[0;32m--> 710\u001b[0;31m     \u001b[0;32mreturn\u001b[0m \u001b[0m_eval_using_default_session\u001b[0m\u001b[0;34m(\u001b[0m\u001b[0mself\u001b[0m\u001b[0;34m,\u001b[0m \u001b[0mfeed_dict\u001b[0m\u001b[0;34m,\u001b[0m \u001b[0mself\u001b[0m\u001b[0;34m.\u001b[0m\u001b[0mgraph\u001b[0m\u001b[0;34m,\u001b[0m \u001b[0msession\u001b[0m\u001b[0;34m)\u001b[0m\u001b[0;34m\u001b[0m\u001b[0m\n\u001b[0m\u001b[1;32m    711\u001b[0m \u001b[0;34m\u001b[0m\u001b[0m\n\u001b[1;32m    712\u001b[0m \u001b[0;34m\u001b[0m\u001b[0m\n",
      "\u001b[0;32m~/anaconda3/envs/jojo/lib/python3.6/site-packages/tensorflow/python/framework/ops.py\u001b[0m in \u001b[0;36m_eval_using_default_session\u001b[0;34m(tensors, feed_dict, graph, session)\u001b[0m\n\u001b[1;32m   5178\u001b[0m                        \u001b[0;34m\"the tensor's graph is different from the session's \"\u001b[0m\u001b[0;34m\u001b[0m\u001b[0m\n\u001b[1;32m   5179\u001b[0m                        \"graph.\")\n\u001b[0;32m-> 5180\u001b[0;31m   \u001b[0;32mreturn\u001b[0m \u001b[0msession\u001b[0m\u001b[0;34m.\u001b[0m\u001b[0mrun\u001b[0m\u001b[0;34m(\u001b[0m\u001b[0mtensors\u001b[0m\u001b[0;34m,\u001b[0m \u001b[0mfeed_dict\u001b[0m\u001b[0;34m)\u001b[0m\u001b[0;34m\u001b[0m\u001b[0m\n\u001b[0m\u001b[1;32m   5181\u001b[0m \u001b[0;34m\u001b[0m\u001b[0m\n\u001b[1;32m   5182\u001b[0m \u001b[0;34m\u001b[0m\u001b[0m\n",
      "\u001b[0;32m~/anaconda3/envs/jojo/lib/python3.6/site-packages/tensorflow/python/client/session.py\u001b[0m in \u001b[0;36mrun\u001b[0;34m(self, fetches, feed_dict, options, run_metadata)\u001b[0m\n\u001b[1;32m    898\u001b[0m     \u001b[0;32mtry\u001b[0m\u001b[0;34m:\u001b[0m\u001b[0;34m\u001b[0m\u001b[0m\n\u001b[1;32m    899\u001b[0m       result = self._run(None, fetches, feed_dict, options_ptr,\n\u001b[0;32m--> 900\u001b[0;31m                          run_metadata_ptr)\n\u001b[0m\u001b[1;32m    901\u001b[0m       \u001b[0;32mif\u001b[0m \u001b[0mrun_metadata\u001b[0m\u001b[0;34m:\u001b[0m\u001b[0;34m\u001b[0m\u001b[0m\n\u001b[1;32m    902\u001b[0m         \u001b[0mproto_data\u001b[0m \u001b[0;34m=\u001b[0m \u001b[0mtf_session\u001b[0m\u001b[0;34m.\u001b[0m\u001b[0mTF_GetBuffer\u001b[0m\u001b[0;34m(\u001b[0m\u001b[0mrun_metadata_ptr\u001b[0m\u001b[0;34m)\u001b[0m\u001b[0;34m\u001b[0m\u001b[0m\n",
      "\u001b[0;32m~/anaconda3/envs/jojo/lib/python3.6/site-packages/tensorflow/python/client/session.py\u001b[0m in \u001b[0;36m_run\u001b[0;34m(self, handle, fetches, feed_dict, options, run_metadata)\u001b[0m\n\u001b[1;32m   1133\u001b[0m     \u001b[0;32mif\u001b[0m \u001b[0mfinal_fetches\u001b[0m \u001b[0;32mor\u001b[0m \u001b[0mfinal_targets\u001b[0m \u001b[0;32mor\u001b[0m \u001b[0;34m(\u001b[0m\u001b[0mhandle\u001b[0m \u001b[0;32mand\u001b[0m \u001b[0mfeed_dict_tensor\u001b[0m\u001b[0;34m)\u001b[0m\u001b[0;34m:\u001b[0m\u001b[0;34m\u001b[0m\u001b[0m\n\u001b[1;32m   1134\u001b[0m       results = self._do_run(handle, final_targets, final_fetches,\n\u001b[0;32m-> 1135\u001b[0;31m                              feed_dict_tensor, options, run_metadata)\n\u001b[0m\u001b[1;32m   1136\u001b[0m     \u001b[0;32melse\u001b[0m\u001b[0;34m:\u001b[0m\u001b[0;34m\u001b[0m\u001b[0m\n\u001b[1;32m   1137\u001b[0m       \u001b[0mresults\u001b[0m \u001b[0;34m=\u001b[0m \u001b[0;34m[\u001b[0m\u001b[0;34m]\u001b[0m\u001b[0;34m\u001b[0m\u001b[0m\n",
      "\u001b[0;32m~/anaconda3/envs/jojo/lib/python3.6/site-packages/tensorflow/python/client/session.py\u001b[0m in \u001b[0;36m_do_run\u001b[0;34m(self, handle, target_list, fetch_list, feed_dict, options, run_metadata)\u001b[0m\n\u001b[1;32m   1314\u001b[0m     \u001b[0;32mif\u001b[0m \u001b[0mhandle\u001b[0m \u001b[0;32mis\u001b[0m \u001b[0;32mNone\u001b[0m\u001b[0;34m:\u001b[0m\u001b[0;34m\u001b[0m\u001b[0m\n\u001b[1;32m   1315\u001b[0m       return self._do_call(_run_fn, feeds, fetches, targets, options,\n\u001b[0;32m-> 1316\u001b[0;31m                            run_metadata)\n\u001b[0m\u001b[1;32m   1317\u001b[0m     \u001b[0;32melse\u001b[0m\u001b[0;34m:\u001b[0m\u001b[0;34m\u001b[0m\u001b[0m\n\u001b[1;32m   1318\u001b[0m       \u001b[0;32mreturn\u001b[0m \u001b[0mself\u001b[0m\u001b[0;34m.\u001b[0m\u001b[0m_do_call\u001b[0m\u001b[0;34m(\u001b[0m\u001b[0m_prun_fn\u001b[0m\u001b[0;34m,\u001b[0m \u001b[0mhandle\u001b[0m\u001b[0;34m,\u001b[0m \u001b[0mfeeds\u001b[0m\u001b[0;34m,\u001b[0m \u001b[0mfetches\u001b[0m\u001b[0;34m)\u001b[0m\u001b[0;34m\u001b[0m\u001b[0m\n",
      "\u001b[0;32m~/anaconda3/envs/jojo/lib/python3.6/site-packages/tensorflow/python/client/session.py\u001b[0m in \u001b[0;36m_do_call\u001b[0;34m(self, fn, *args)\u001b[0m\n\u001b[1;32m   1333\u001b[0m         \u001b[0;32mexcept\u001b[0m \u001b[0mKeyError\u001b[0m\u001b[0;34m:\u001b[0m\u001b[0;34m\u001b[0m\u001b[0m\n\u001b[1;32m   1334\u001b[0m           \u001b[0;32mpass\u001b[0m\u001b[0;34m\u001b[0m\u001b[0m\n\u001b[0;32m-> 1335\u001b[0;31m       \u001b[0;32mraise\u001b[0m \u001b[0mtype\u001b[0m\u001b[0;34m(\u001b[0m\u001b[0me\u001b[0m\u001b[0;34m)\u001b[0m\u001b[0;34m(\u001b[0m\u001b[0mnode_def\u001b[0m\u001b[0;34m,\u001b[0m \u001b[0mop\u001b[0m\u001b[0;34m,\u001b[0m \u001b[0mmessage\u001b[0m\u001b[0;34m)\u001b[0m\u001b[0;34m\u001b[0m\u001b[0m\n\u001b[0m\u001b[1;32m   1336\u001b[0m \u001b[0;34m\u001b[0m\u001b[0m\n\u001b[1;32m   1337\u001b[0m   \u001b[0;32mdef\u001b[0m \u001b[0m_extend_graph\u001b[0m\u001b[0;34m(\u001b[0m\u001b[0mself\u001b[0m\u001b[0;34m)\u001b[0m\u001b[0;34m:\u001b[0m\u001b[0;34m\u001b[0m\u001b[0m\n",
      "\u001b[0;31mInvalidArgumentError\u001b[0m: Incompatible shapes: [200] vs. [50]\n\t [[Node: Equal = Equal[T=DT_INT64, _device=\"/job:localhost/replica:0/task:0/device:GPU:0\"](ArgMax, ArgMax_1)]]\n\t [[Node: Mean/_7 = _Recv[client_terminated=false, recv_device=\"/job:localhost/replica:0/task:0/device:CPU:0\", send_device=\"/job:localhost/replica:0/task:0/device:GPU:0\", send_device_incarnation=1, tensor_name=\"edge_77_Mean\", tensor_type=DT_FLOAT, _device=\"/job:localhost/replica:0/task:0/device:CPU:0\"]()]]\n\nCaused by op 'Equal', defined at:\n  File \"/home/joseph/anaconda3/envs/jojo/lib/python3.6/runpy.py\", line 193, in _run_module_as_main\n    \"__main__\", mod_spec)\n  File \"/home/joseph/anaconda3/envs/jojo/lib/python3.6/runpy.py\", line 85, in _run_code\n    exec(code, run_globals)\n  File \"/home/joseph/anaconda3/envs/jojo/lib/python3.6/site-packages/ipykernel_launcher.py\", line 16, in <module>\n    app.launch_new_instance()\n  File \"/home/joseph/anaconda3/envs/jojo/lib/python3.6/site-packages/traitlets/config/application.py\", line 658, in launch_instance\n    app.start()\n  File \"/home/joseph/anaconda3/envs/jojo/lib/python3.6/site-packages/ipykernel/kernelapp.py\", line 486, in start\n    self.io_loop.start()\n  File \"/home/joseph/anaconda3/envs/jojo/lib/python3.6/site-packages/tornado/platform/asyncio.py\", line 127, in start\n    self.asyncio_loop.run_forever()\n  File \"/home/joseph/anaconda3/envs/jojo/lib/python3.6/asyncio/base_events.py\", line 422, in run_forever\n    self._run_once()\n  File \"/home/joseph/anaconda3/envs/jojo/lib/python3.6/asyncio/base_events.py\", line 1432, in _run_once\n    handle._run()\n  File \"/home/joseph/anaconda3/envs/jojo/lib/python3.6/asyncio/events.py\", line 145, in _run\n    self._callback(*self._args)\n  File \"/home/joseph/anaconda3/envs/jojo/lib/python3.6/site-packages/tornado/platform/asyncio.py\", line 117, in _handle_events\n    handler_func(fileobj, events)\n  File \"/home/joseph/anaconda3/envs/jojo/lib/python3.6/site-packages/tornado/stack_context.py\", line 276, in null_wrapper\n    return fn(*args, **kwargs)\n  File \"/home/joseph/anaconda3/envs/jojo/lib/python3.6/site-packages/zmq/eventloop/zmqstream.py\", line 450, in _handle_events\n    self._handle_recv()\n  File \"/home/joseph/anaconda3/envs/jojo/lib/python3.6/site-packages/zmq/eventloop/zmqstream.py\", line 480, in _handle_recv\n    self._run_callback(callback, msg)\n  File \"/home/joseph/anaconda3/envs/jojo/lib/python3.6/site-packages/zmq/eventloop/zmqstream.py\", line 432, in _run_callback\n    callback(*args, **kwargs)\n  File \"/home/joseph/anaconda3/envs/jojo/lib/python3.6/site-packages/tornado/stack_context.py\", line 276, in null_wrapper\n    return fn(*args, **kwargs)\n  File \"/home/joseph/anaconda3/envs/jojo/lib/python3.6/site-packages/ipykernel/kernelbase.py\", line 283, in dispatcher\n    return self.dispatch_shell(stream, msg)\n  File \"/home/joseph/anaconda3/envs/jojo/lib/python3.6/site-packages/ipykernel/kernelbase.py\", line 233, in dispatch_shell\n    handler(stream, idents, msg)\n  File \"/home/joseph/anaconda3/envs/jojo/lib/python3.6/site-packages/ipykernel/kernelbase.py\", line 399, in execute_request\n    user_expressions, allow_stdin)\n  File \"/home/joseph/anaconda3/envs/jojo/lib/python3.6/site-packages/ipykernel/ipkernel.py\", line 208, in do_execute\n    res = shell.run_cell(code, store_history=store_history, silent=silent)\n  File \"/home/joseph/anaconda3/envs/jojo/lib/python3.6/site-packages/ipykernel/zmqshell.py\", line 537, in run_cell\n    return super(ZMQInteractiveShell, self).run_cell(*args, **kwargs)\n  File \"/home/joseph/anaconda3/envs/jojo/lib/python3.6/site-packages/IPython/core/interactiveshell.py\", line 2662, in run_cell\n    raw_cell, store_history, silent, shell_futures)\n  File \"/home/joseph/anaconda3/envs/jojo/lib/python3.6/site-packages/IPython/core/interactiveshell.py\", line 2785, in _run_cell\n    interactivity=interactivity, compiler=compiler, result=result)\n  File \"/home/joseph/anaconda3/envs/jojo/lib/python3.6/site-packages/IPython/core/interactiveshell.py\", line 2903, in run_ast_nodes\n    if self.run_code(code, result):\n  File \"/home/joseph/anaconda3/envs/jojo/lib/python3.6/site-packages/IPython/core/interactiveshell.py\", line 2963, in run_code\n    exec(code_obj, self.user_global_ns, self.user_ns)\n  File \"<ipython-input-10-6ee8c8fb8ba9>\", line 9, in <module>\n    correct_prediction = tf.equal(tf.argmax(guesses,1), tf.argmax(lbl,1));\n  File \"/home/joseph/anaconda3/envs/jojo/lib/python3.6/site-packages/tensorflow/python/ops/gen_math_ops.py\", line 2529, in equal\n    \"Equal\", x=x, y=y, name=name)\n  File \"/home/joseph/anaconda3/envs/jojo/lib/python3.6/site-packages/tensorflow/python/framework/op_def_library.py\", line 787, in _apply_op_helper\n    op_def=op_def)\n  File \"/home/joseph/anaconda3/envs/jojo/lib/python3.6/site-packages/tensorflow/python/framework/ops.py\", line 3392, in create_op\n    op_def=op_def)\n  File \"/home/joseph/anaconda3/envs/jojo/lib/python3.6/site-packages/tensorflow/python/framework/ops.py\", line 1718, in __init__\n    self._traceback = self._graph._extract_stack()  # pylint: disable=protected-access\n\nInvalidArgumentError (see above for traceback): Incompatible shapes: [200] vs. [50]\n\t [[Node: Equal = Equal[T=DT_INT64, _device=\"/job:localhost/replica:0/task:0/device:GPU:0\"](ArgMax, ArgMax_1)]]\n\t [[Node: Mean/_7 = _Recv[client_terminated=false, recv_device=\"/job:localhost/replica:0/task:0/device:CPU:0\", send_device=\"/job:localhost/replica:0/task:0/device:GPU:0\", send_device_incarnation=1, tensor_name=\"edge_77_Mean\", tensor_type=DT_FLOAT, _device=\"/job:localhost/replica:0/task:0/device:CPU:0\"]()]]\n"
     ]
    }
   ],
   "source": [
    "for i in range(20000):\n",
    "    randomint = randint(0,10000 - batchsize - 1)\n",
    "    trainingData = batch[\"data\"][randomint:batchsize+randomint]\n",
    "    rawlabel = batch[\"labels\"][randomint:batchsize+randomint]\n",
    "    trainingLabel = np.zeros((batchsize,10))\n",
    "    trainingLabel[np.arange(batchsize),rawlabel] = 1\n",
    "    trainingData = trainingData/255.0\n",
    "    trainingData = np.reshape(trainingData,[-1,3,32,32])\n",
    "    trainingData = np.swapaxes(trainingData,1,3)\n",
    "\n",
    "    if i%500 == 0:\n",
    "        train_accuracy = accuracy.eval(feed_dict={\n",
    "        img: validationData, lbl: validationLabel, keepProb: 1.0})\n",
    "        print(\"step %d, training accuracy %g\"%(i, train_accuracy))\n",
    "\n",
    "        if i%50 == 0:\n",
    "            saver.save(sess, os.getcwd()+\"/training/train\", global_step=i)\n",
    "\n",
    "    optimizer.run(feed_dict={img: trainingData, lbl: trainingLabel, keepProb: 0.5})"
   ]
  },
  {
   "cell_type": "code",
   "execution_count": null,
   "metadata": {},
   "outputs": [],
   "source": [
    "def unpool(value, name='unpool'):\n",
    "    \"\"\"N-dimensional version of the unpooling operation from\n",
    "    https://www.robots.ox.ac.uk/~vgg/rg/papers/Dosovitskiy_Learning_to_Generate_2015_CVPR_paper.pdf\n",
    "    :param value: A Tensor of shape [b, d0, d1, ..., dn, ch]\n",
    "    :return: A Tensor of shape [b, 2*d0, 2*d1, ..., 2*dn, ch]\n",
    "    \"\"\"\n",
    "    with tf.name_scope(name) as scope:\n",
    "        sh = value.get_shape().as_list()\n",
    "        dim = len(sh[1:-1])\n",
    "        out = (tf.reshape(value, [-1] + sh[-dim:]))\n",
    "        for i in range(dim, 0, -1):\n",
    "            out = tf.concat([out, out], i)\n",
    "        out_size = [-1] + [s * 2 for s in sh[1:-1]] + [sh[-1]]\n",
    "        out = tf.reshape(out, out_size, name=scope)\n",
    "    return out"
   ]
  },
  {
   "cell_type": "code",
   "execution_count": null,
   "metadata": {},
   "outputs": [],
   "source": [
    "print (\"displaying\")\n",
    "\n",
    "batchsizeFeatures = 50\n",
    "imageIndex = 56\n",
    "\n",
    "inputImage = batch[\"data\"][imageIndex:imageIndex+batchsizeFeatures]\n",
    "inputImage = inputImage/255.0\n",
    "inputImage = np.reshape(inputImage,[-1,3,32,32])\n",
    "inputImage = np.swapaxes(inputImage,1,3)\n",
    "\n",
    "inputLabel = np.zeros((batchsize,10))\n",
    "inputLabel[np.arange(1),batch[\"labels\"][imageIndex:imageIndex+batchsizeFeatures]] = 1;"
   ]
  },
  {
   "cell_type": "code",
   "execution_count": null,
   "metadata": {},
   "outputs": [],
   "source": [
    "# saves pixel-representations of features from Conv layer 1\n",
    "featuresReLu1 = tf.placeholder(\"float\",[None,32,32,32])\n",
    "unReLu = tf.nn.relu(featuresReLu1)\n",
    "unBias = unReLu\n",
    "unConv = tf.nn.conv2d_transpose(unBias, wConv1, output_shape=[batchsizeFeatures,imagesize,imagesize,colors] , strides=[1,1,1,1], padding=\"SAME\")\n",
    "activations1 = relu1.eval(feed_dict={img: inputImage, lbl: inputLabel, keepProb: 1.0})\n",
    "print (np.shape(activations1))"
   ]
  },
  {
   "cell_type": "code",
   "execution_count": null,
   "metadata": {
    "scrolled": true
   },
   "outputs": [],
   "source": [
    "best_list = []\n",
    "for i in range(32):\n",
    "    isolated = activations1.copy()\n",
    "    isolated[:,:,:,:i] = 0\n",
    "    isolated[:,:,:,i+1:] = 0\n",
    "    # print (\"shape of isolated one:\", np.shape(isolated))\n",
    "    totals = np.sum(isolated,axis=(1,2,3))\n",
    "    best = np.argmin(totals,axis=0)\n",
    "    best_list.append(best)\n",
    "    # print (\"best:\", best)\n",
    "    pixelactive = unConv.eval(feed_dict={featuresReLu1: isolated})"
   ]
  },
  {
   "cell_type": "code",
   "execution_count": null,
   "metadata": {
    "scrolled": true
   },
   "outputs": [],
   "source": [
    "from scipy import ndimage\n",
    "for best_thing in best_list:\n",
    "    images = [inputImage[best_thing], pixelactive[best_thing]]\n",
    "    plt.figure(figsize=(20,10))\n",
    "    columns = 6\n",
    "    for i, image in enumerate(images):\n",
    "        image = ndimage.rotate(image, -90)\n",
    "        plt.subplot(len(images) / columns + 1, columns, i + 1)\n",
    "        plt.imshow((image * 255).astype(np.uint8))"
   ]
  },
  {
   "cell_type": "code",
   "execution_count": null,
   "metadata": {},
   "outputs": [],
   "source": [
    "# unconv from conv layer 2\n",
    "featuresRelu2 = tf.placeholder(\"float\", [None,16,16,64])\n",
    "unRelu2 = tf.nn.relu(featuresRelu2)\n",
    "unBias2 = unRelu2\n",
    "unConv2 = tf.nn.conv2d_transpose(unBias2, \n",
    "                                 wConv2, \n",
    "                                 output_shape = [batchsizeFeatures, int(imagesize/2), int(imagesize/2),32],\n",
    "                                 strides = [1,1,1,1],\n",
    "                                 padding=\"SAME\")\n",
    "unPool = unpool(unConv2)\n",
    "unRelu = tf.nn.relu(unPool)\n",
    "unBias = unRelu\n",
    "unConv = tf.nn.conv2d_transpose(unBias, \n",
    "                                wConv1, \n",
    "                                output_shape=[batchsizeFeatures,imagesize,imagesize,colors], \n",
    "                                strides=[1,1,1,1], \n",
    "                                padding=\"SAME\")\n",
    "activations1 = relu2.eval(feed_dict={img: inputImage, lbl: inputLabel, keepProb: 1.0})\n",
    "print (\"shape of activations1:\", np.shape(activations1))"
   ]
  },
  {
   "cell_type": "code",
   "execution_count": null,
   "metadata": {},
   "outputs": [],
   "source": [
    "best_list = []\n",
    "for i in range(64):\n",
    "    isolated = activations1.copy()\n",
    "    isolated[:,:,:,:i] = 0\n",
    "    isolated[:,:,:,i+1:] = 0\n",
    "    pixelactive = unConv.eval(feed_dict={featuresRelu2: isolated})\n",
    "    totals = np.sum(pixelactive,axis=(1,2,3))\n",
    "    best = np.argmax(totals,axis=0)\n",
    "    # best = 0\n",
    "    best_list.append(best)"
   ]
  },
  {
   "cell_type": "code",
   "execution_count": null,
   "metadata": {},
   "outputs": [],
   "source": [
    "for best_thing in best_list:\n",
    "    images = [inputImage[best_thing], pixelactive[best_thing]]\n",
    "    plt.figure(figsize=(20,10))\n",
    "    columns = 6\n",
    "    for i, image in enumerate(images):\n",
    "        image = ndimage.rotate(image, -90)\n",
    "        plt.subplot(len(images) / columns + 1, columns, i + 1)\n",
    "        plt.imshow(image)"
   ]
  }
 ],
 "metadata": {
  "kernelspec": {
   "display_name": "Python 3",
   "language": "python",
   "name": "python3"
  },
  "language_info": {
   "codemirror_mode": {
    "name": "ipython",
    "version": 3
   },
   "file_extension": ".py",
   "mimetype": "text/x-python",
   "name": "python",
   "nbconvert_exporter": "python",
   "pygments_lexer": "ipython3",
   "version": "3.6.5"
  }
 },
 "nbformat": 4,
 "nbformat_minor": 2
}
